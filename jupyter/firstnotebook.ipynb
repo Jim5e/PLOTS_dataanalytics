{
 "cells": [
  {
   "cell_type": "code",
   "execution_count": 11,
   "id": "a7634fea-b6dd-42a1-9865-5cc1af2ee4f1",
   "metadata": {},
   "outputs": [
    {
     "name": "stdout",
     "output_type": "stream",
     "text": [
      "Trial\n",
      "whoa\n"
     ]
    }
   ],
   "source": [
    "print('Trial')\n",
    "print('whoa')"
   ]
  },
  {
   "cell_type": "code",
   "execution_count": 9,
   "id": "20fec59c-aa26-4968-bc94-25fbc4dc6937",
   "metadata": {},
   "outputs": [],
   "source": [
    "import pandas as pd"
   ]
  },
  {
   "cell_type": "code",
   "execution_count": 6,
   "id": "c74ea65f-e226-4045-83c6-8776753b874b",
   "metadata": {},
   "outputs": [
    {
     "name": "stdout",
     "output_type": "stream",
     "text": [
      "Numero dos\n"
     ]
    }
   ],
   "source": [
    "print('Numero dos')"
   ]
  },
  {
   "cell_type": "code",
   "execution_count": 10,
   "id": "071db262-f700-4ec8-82a7-ce91914f0cd8",
   "metadata": {},
   "outputs": [
    {
     "name": "stdout",
     "output_type": "stream",
     "text": [
      "<module 'pandas' from 'C:\\\\ProgramData\\\\anaconda3\\\\Lib\\\\site-packages\\\\pandas\\\\__init__.py'>\n"
     ]
    }
   ],
   "source": [
    "print(pd)"
   ]
  },
  {
   "cell_type": "code",
   "execution_count": null,
   "id": "7703a417-1d37-44af-a032-66916f5ba283",
   "metadata": {},
   "outputs": [],
   "source": []
  },
  {
   "cell_type": "code",
   "execution_count": null,
   "id": "04b052b7-2e74-4e40-b477-b9cffdd2cb21",
   "metadata": {},
   "outputs": [],
   "source": []
  },
  {
   "cell_type": "code",
   "execution_count": null,
   "id": "d23b0144-9d7d-4177-a7be-b535cb1b8850",
   "metadata": {},
   "outputs": [],
   "source": []
  }
 ],
 "metadata": {
  "kernelspec": {
   "display_name": "Python 3 (ipykernel)",
   "language": "python",
   "name": "python3"
  },
  "language_info": {
   "codemirror_mode": {
    "name": "ipython",
    "version": 3
   },
   "file_extension": ".py",
   "mimetype": "text/x-python",
   "name": "python",
   "nbconvert_exporter": "python",
   "pygments_lexer": "ipython3",
   "version": "3.12.7"
  }
 },
 "nbformat": 4,
 "nbformat_minor": 5
}
